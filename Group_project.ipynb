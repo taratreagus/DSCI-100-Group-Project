{
 "cells": [
  {
   "cell_type": "markdown",
   "metadata": {},
   "source": [
    "Introduction:\n",
    "    Provide some relevant background information on the topic so that someone unfamiliar with it will be prepared to understand the rest of your proposal\n",
    "\t• By using the K-nearest neighbor algorithm, we can determine the class of new data inputs in an existing data set. This is done by splitting the data set into training and testing points, and using the training set to build a classification model. This is a common practice done by using attributes of the existing data set to classify new data points. We will use existing attributes in a data set to answer a predictive question. \n",
    "• Clearly state the question you will try to answer with your project\n",
    "\t• Predictive question: Based on the degree of study time, the degree of repetition and the exam performance of a student, what is the predicted knowledge level of the student on the subject?\n",
    "• Identify and describe the dataset that will be used to answer the question\n",
    "We will be using the UCI User Knowledge Modeling Data set. The data set contains information about the student's knowledge status about the subject of Electrical DC Machines. This is a multivariate data set which includes 5 attributes, all of which are integer values. There are 403 instances in this data set. In this data set the users' knowledge class were classified using the k-nearest neighbor algorithm. The attributes in this data set are as listed: The degree of study time for goal object materials, The degree of repetition number of user for goal object materials, The degree of study time of user for related objects with goal object, The exam performance of user for related objects with goal object, The exam performance of user for goal objects, The knowledge level of user. The knowledge level of the user will be the class determined by all other attributes."
   ]
  },
  {
   "cell_type": "code",
   "execution_count": null,
   "metadata": {},
   "outputs": [],
   "source": []
  }
 ],
 "metadata": {
  "kernelspec": {
   "display_name": "R",
   "language": "R",
   "name": "ir"
  },
  "language_info": {
   "codemirror_mode": "r",
   "file_extension": ".r",
   "mimetype": "text/x-r-source",
   "name": "R",
   "pygments_lexer": "r",
   "version": "4.0.0"
  }
 },
 "nbformat": 4,
 "nbformat_minor": 4
}
