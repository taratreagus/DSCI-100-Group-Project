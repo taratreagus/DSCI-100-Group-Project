{
 "cells": [
  {
   "cell_type": "markdown",
   "metadata": {},
   "source": [
    "Introduction:\n",
    "\n",
    "\n",
    "By using the K-nearest neighbor algorithm, we can determine the class of new data inputs in an existing data set. The K Nearest Neighbor (KNN) algorithm is a machine learning algorithm that can be used to solve classification problems. KNN works by finding the points with the nearest distance to a new data point. The number of points used is pre-determined and is specified by K. From these points, the majority class will classify the new point as such. \n",
    "\n",
    "There is some work which must be done of the data set before using KNN to classify is possible. This includes centering and scaling the data, splitting the data set into training and testing points, and using the training set to build a classification model. From this model, the K Nearest Neighbor algorithm will be used to answer a predictive question pertaining to our data set, using existing attributes in the data set. \n",
    "\n",
    "The question we will be using classification to answer is: based on the degree of study time, the degree of repetition and the exam performance of a student, what is the predicted knowledge level of the student on the subject?\n",
    "\n",
    "We will be using the UCI User Knowledge Modeling Data set to answer this question. The data set contains information about the student's knowledge status about the subject of Electrical DC Machines. This is a multivariate data set which includes 5 attributes, all of which are integer values. There are 403 instances in this data set. In this data set the users' knowledge class were classified using the k-nearest neighbor algorithm. The attributes in this data set are as listed: The degree of study time for goal object materials, The degree of repetition number of user for goal object materials, The degree of study time of user for related objects with goal object, The exam performance of user for related objects with goal object, The exam performance of user for goal objects, The knowledge level of user. The knowledge level of the user will be the class determined by all other attributes.\n",
    "\n",
    "By building a model based on the existing attributes in the data set, we will be able to answer a predictive question on the expected knowledge level of a student on the subject. "
   ]
  },
  {
   "cell_type": "markdown",
   "metadata": {},
   "source": [
    "Expected outcomes and significance:\n",
    "What do you expect to find?\n",
    "We will be predicting the knowledge level of a user based on the degree of study time, the degree of repetition, and exam performance of a student. We expect to find that a higher score in each of these attributes will correspond to a higher level of knowledge\n",
    "\n",
    "What impact could such findings have?\n",
    "Such findings could drive students to study more frequently and for longer periods of time. It could also help inform students of more valuable and efficient study techniques to acheive the maximum level of knowledge for a subject. In addition, it could help students as well as teachers and course coordinators be able to make valuable predictions on the knowledge level students acheived when completing a course by assessing different these attributes which could be collected throughout the course.\n",
    "\n",
    "What future questions could this lead to?\n",
    "This could lead to future questions such as, Could we predict which attribute has a more significant impact on the level of knowledge of students to inform students which area was more valuable to focus on, and leads to success more than others?\n"
   ]
  },
  {
   "cell_type": "code",
   "execution_count": null,
   "metadata": {},
   "outputs": [],
   "source": []
  }
 ],
 "metadata": {
  "kernelspec": {
   "display_name": "R",
   "language": "R",
   "name": "ir"
  },
  "language_info": {
   "codemirror_mode": "r",
   "file_extension": ".r",
   "mimetype": "text/x-r-source",
   "name": "R",
   "pygments_lexer": "r",
   "version": "4.0.0"
  }
 },
 "nbformat": 4,
 "nbformat_minor": 4
}
